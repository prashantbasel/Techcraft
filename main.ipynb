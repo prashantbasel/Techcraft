{
 "cells": [
  {
   "cell_type": "code",
   "execution_count": 29,
   "id": "dfe02866",
   "metadata": {},
   "outputs": [
    {
     "name": "stdout",
     "output_type": "stream",
     "text": [
      "2\n"
     ]
    }
   ],
   "source": [
    "print(2)"
   ]
  },
  {
   "cell_type": "code",
   "execution_count": 30,
   "id": "10298f63",
   "metadata": {},
   "outputs": [],
   "source": [
    "from pyspark.sql import SparkSession\n",
    "spark=(SparkSession\n",
    "       .builder\n",
    "       .appName(\"SparkApp\")\n",
    "       .getOrCreate()\n",
    "       )"
   ]
  },
  {
   "cell_type": "code",
   "execution_count": 31,
   "id": "57819d4a",
   "metadata": {},
   "outputs": [
    {
     "data": {
      "text/html": [
       "\n",
       "            <div>\n",
       "                <p><b>SparkSession - in-memory</b></p>\n",
       "                \n",
       "        <div>\n",
       "            <p><b>SparkContext</b></p>\n",
       "\n",
       "            <p><a href=\"http://192.168.146.130:4040\">Spark UI</a></p>\n",
       "\n",
       "            <dl>\n",
       "              <dt>Version</dt>\n",
       "                <dd><code>v3.5.5</code></dd>\n",
       "              <dt>Master</dt>\n",
       "                <dd><code>local[*]</code></dd>\n",
       "              <dt>AppName</dt>\n",
       "                <dd><code>SparkApp</code></dd>\n",
       "            </dl>\n",
       "        </div>\n",
       "        \n",
       "            </div>\n",
       "        "
      ],
      "text/plain": [
       "<pyspark.sql.session.SparkSession at 0x778bf83a0ce0>"
      ]
     },
     "execution_count": 31,
     "metadata": {},
     "output_type": "execute_result"
    }
   ],
   "source": [
    "spark"
   ]
  },
  {
   "cell_type": "markdown",
   "id": "71c81162",
   "metadata": {},
   "source": [
    "## Raw user"
   ]
  },
  {
   "cell_type": "code",
   "execution_count": 32,
   "id": "a766db10",
   "metadata": {},
   "outputs": [
    {
     "name": "stdout",
     "output_type": "stream",
     "text": [
      "+---+-----------+--------------+----------+-----------+------+-------------+--------+---------+-----------------+-------------+----------+------------+----------------+\n",
      "| id|current_age|retirement_age|birth_year|birth_month|gender|      address|latitude|longitude|per_capita_income|yearly_income|total_debt|credit_score|num_credit_cards|\n",
      "+---+-----------+--------------+----------+-----------+------+-------------+--------+---------+-----------------+-------------+----------+------------+----------------+\n",
      "|825|         53|            66|      1966|         11|Female|462 Rose Lane|   34.15|  -117.76|           $29278|       $59696|   $127613|         787|               5|\n",
      "+---+-----------+--------------+----------+-----------+------+-------------+--------+---------+-----------------+-------------+----------+------------+----------------+\n",
      "\n"
     ]
    }
   ],
   "source": [
    "df1=spark.read.csv(\"/home/prashant/Downloads/financial_trans/users_data.csv\",header=True)\n",
    "df1.createOrReplaceTempView('users_data')\n",
    "\n",
    "df1.limit(1).show()"
   ]
  },
  {
   "cell_type": "code",
   "execution_count": 33,
   "id": "b64a877f",
   "metadata": {},
   "outputs": [
    {
     "name": "stderr",
     "output_type": "stream",
     "text": [
      "                                                                                \r"
     ]
    }
   ],
   "source": [
    "df1.write.mode(\"overwrite\").parquet(\"./output/raw_users\")"
   ]
  },
  {
   "cell_type": "code",
   "execution_count": 34,
   "id": "ebd99c91",
   "metadata": {},
   "outputs": [],
   "source": [
    "with open(\"/home/prashant/Downloads/query/raw_users.sql\") as f:\n",
    "    users=f.read()"
   ]
  },
  {
   "cell_type": "code",
   "execution_count": 35,
   "id": "32fcb9e9",
   "metadata": {},
   "outputs": [
    {
     "name": "stdout",
     "output_type": "stream",
     "text": [
      "select \n",
      "    id,\n",
      "    gender,\n",
      "    to_date(concat(birth_year||'/'||birth_month||'/1'),'yyyy/M/d') as birth_date,\n",
      "    address,\n",
      "    cast(regexp_replace(yearly_income,'[$,]','') as decimal(18,3)) as yearly_income,\n",
      "    cast(regexp_replace(total_debt,'[$,]','') as decimal(18,3)) total_debt,\n",
      "    cast(credit_score as int),\n",
      "    case\n",
      "        when credit_score between 800 and 850 then 5\n",
      "        when credit_score between 740 and 799 then 4\n",
      "        when credit_score between 670 and 739 then 3\n",
      "        when credit_score between 580 and 669 then 2\n",
      "        when credit_score between 300 and 579 then 1\n",
      "        else null\n",
      "    end as credit_rating,\n",
      "    cast(num_credit_cards as int),\n",
      "    cast(retirement_age as int),\n",
      "    cast(retirement_age - (2025-birth_year) as int) as years_for_retirement\n",
      "from users_data\n",
      "\n"
     ]
    }
   ],
   "source": [
    "print(users)"
   ]
  },
  {
   "cell_type": "code",
   "execution_count": 36,
   "id": "09cae1ca",
   "metadata": {},
   "outputs": [
    {
     "name": "stdout",
     "output_type": "stream",
     "text": [
      "Requirement already satisfied: pandas in ./.venv/lib/python3.12/site-packages (2.2.3)\n",
      "Requirement already satisfied: numpy>=1.26.0 in ./.venv/lib/python3.12/site-packages (from pandas) (2.2.5)\n",
      "Requirement already satisfied: python-dateutil>=2.8.2 in ./.venv/lib/python3.12/site-packages (from pandas) (2.9.0.post0)\n",
      "Requirement already satisfied: pytz>=2020.1 in ./.venv/lib/python3.12/site-packages (from pandas) (2025.2)\n",
      "Requirement already satisfied: tzdata>=2022.7 in ./.venv/lib/python3.12/site-packages (from pandas) (2025.2)\n",
      "Requirement already satisfied: six>=1.5 in ./.venv/lib/python3.12/site-packages (from python-dateutil>=2.8.2->pandas) (1.17.0)\n",
      "Note: you may need to restart the kernel to use updated packages.\n"
     ]
    }
   ],
   "source": [
    "pip install pandas"
   ]
  },
  {
   "cell_type": "code",
   "execution_count": 37,
   "id": "7eb08b87",
   "metadata": {},
   "outputs": [
    {
     "name": "stdout",
     "output_type": "stream",
     "text": [
      "Requirement already satisfied: setuptools in ./.venv/lib/python3.12/site-packages (80.3.1)\n",
      "Note: you may need to restart the kernel to use updated packages.\n"
     ]
    }
   ],
   "source": [
    "pip install setuptools"
   ]
  },
  {
   "cell_type": "code",
   "execution_count": 41,
   "id": "a37cf927",
   "metadata": {},
   "outputs": [
    {
     "name": "stdout",
     "output_type": "stream",
     "text": [
      "+----+------+----------+--------------------+-------------+----------+------------+-------------+----------------+--------------+--------------------+\n",
      "|  id|gender|birth_date|             address|yearly_income|total_debt|credit_score|credit_rating|num_credit_cards|retirement_age|years_for_retirement|\n",
      "+----+------+----------+--------------------+-------------+----------+------------+-------------+----------------+--------------+--------------------+\n",
      "| 825|Female|1966-11-01|       462 Rose Lane|    59696.000|127613.000|         787|            4|               5|            66|                   7|\n",
      "|1746|Female|1966-12-01|3606 Federal Boul...|    77254.000|191349.000|         701|            3|               5|            68|                   9|\n",
      "|1718|Female|1938-11-01|     766 Third Drive|    33483.000|   196.000|         698|            3|               5|            67|                 -20|\n",
      "| 708|Female|1957-01-01|    3 Madison Street|   249925.000|202328.000|         722|            3|               4|            63|                  -5|\n",
      "|1164|  Male|1976-09-01|9620 Valley Strea...|   109687.000|183855.000|         675|            3|               1|            70|                  21|\n",
      "|  68|  Male|1977-10-01|       58 Birch Lane|    41997.000|     0.000|         704|            3|               3|            70|                  22|\n",
      "|1075|Female|1983-12-01|   5695 Fifth Street|    51500.000|102286.000|         672|            3|               3|            67|                  25|\n",
      "|1711|  Male|1993-12-01|   1941 Ninth Street|    54623.000|114711.000|         728|            3|               1|            67|                  35|\n",
      "|1116|Female|1938-07-01|    11 Spruce Avenue|    42509.000|  2895.000|         755|            4|               5|            66|                 -21|\n",
      "|1752|Female|1986-01-01|    887 Grant Street|    38190.000| 81262.000|         810|            5|               1|            60|                  21|\n",
      "| 192|  Male|1992-06-01|      888 Fifth Lane|    56164.000| 15224.000|         761|            4|               2|            66|                  33|\n",
      "| 640|Female|1990-09-01|8677 Littlewood Lane|    45727.000| 94016.000|         629|            2|               1|            63|                  28|\n",
      "|1679|Female|2002-01-01|829 Fourth Boulevard|    69149.000| 89214.000|         776|            4|               1|            67|                  44|\n",
      "|1094|  Male|1985-10-01|74786 Jefferson D...|    41442.000| 78833.000|         712|            3|               3|            62|                  22|\n",
      "|1590|Female|1971-05-01|     781 East Street|    20513.000| 32509.000|         599|            2|               1|            62|                   8|\n",
      "|1660|Female|1978-04-01| 40 Washington Drive|    23123.000|  5079.000|         723|            3|               6|            68|                  21|\n",
      "|1747|  Male|1966-01-01| 3994 Hillside Drive|    36497.000| 38333.000|         719|            3|               6|            71|                  12|\n",
      "| 153|Female|1943-08-01|    172 Birch Street|    27484.000| 16803.000|         660|            2|               4|            71|                 -11|\n",
      "| 429|  Male|1997-11-01|8145 Spruce Boule...|    53995.000| 89056.000|         683|            3|               3|            68|                  40|\n",
      "| 511|  Male|1953-10-01|      153 Tenth Lane|    35602.000| 55369.000|         661|            2|               5|            68|                  -4|\n",
      "+----+------+----------+--------------------+-------------+----------+------------+-------------+----------------+--------------+--------------------+\n",
      "only showing top 20 rows\n",
      "\n"
     ]
    }
   ],
   "source": [
    "\n",
    "spark.sql(users).show()\n",
    "\n"
   ]
  },
  {
   "cell_type": "code",
   "execution_count": null,
   "id": "4258dddb",
   "metadata": {},
   "outputs": [],
   "source": []
  }
 ],
 "metadata": {
  "kernelspec": {
   "display_name": ".venv",
   "language": "python",
   "name": "python3"
  },
  "language_info": {
   "codemirror_mode": {
    "name": "ipython",
    "version": 3
   },
   "file_extension": ".py",
   "mimetype": "text/x-python",
   "name": "python",
   "nbconvert_exporter": "python",
   "pygments_lexer": "ipython3",
   "version": "3.12.3"
  }
 },
 "nbformat": 4,
 "nbformat_minor": 5
}
